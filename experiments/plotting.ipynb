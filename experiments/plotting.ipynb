{
 "cells": [
  {
   "cell_type": "code",
   "execution_count": 1,
   "metadata": {},
   "outputs": [
    {
     "name": "stdout",
     "output_type": "stream",
     "text": [
      "bash: proc_log.sh: No such file or directory\r\n"
     ]
    }
   ],
   "source": [
    "!bash proc_log.sh"
   ]
  },
  {
   "cell_type": "code",
   "execution_count": null,
   "metadata": {},
   "outputs": [],
   "source": [
    "def smooth_curve(points, factor=0.1):\n",
    "    smoothed_points = []\n",
    "    for point in points:\n",
    "        if smoothed_points:\n",
    "            previous = smoothed_points[-1]\n",
    "            smoothed_points.append(previous * factor + point * (1 - factor))\n",
    "        else:\n",
    "            smoothed_points.append(point)\n",
    "    return  smoothed_points"
   ]
  },
  {
   "cell_type": "code",
   "execution_count": null,
   "metadata": {},
   "outputs": [],
   "source": [
    "import os\n",
    "import matplotlib.pyplot as plt\n",
    "%matplotlib inline\n",
    "\n",
    "plt.ion()\n",
    "filesdir = './tmpfs'\n",
    "for fil in sorted(os.listdir(filesdir)):\n",
    "    #if fil == 'lr0.01_gamma1_sm':\n",
    "    #    continue\n",
    "    dp_loss = []\n",
    "    objval_est = []\n",
    "    with open(os.path.join(filesdir, fil)) as f:\n",
    "        lines = f.readlines()\n",
    "        for line in lines:\n",
    "            items = line.strip().split()\n",
    "            dp_loss.append(float(items[1].strip(',')))\n",
    "            objval_est.append(float(items[6]))\n",
    "    ites = [i+1 for i in range(len(lines))]\n",
    "    \n",
    "    \n",
    "    fig = plt.figure(figsize=(20,10))\n",
    "   \n",
    "    ax1 = fig.add_subplot(111)\n",
    "    ax1.set_title(f'{fil}')\n",
    "    ax1.plot(ites, smooth_curve(dp_loss), 'grey')\n",
    "    ax1.set_ylabel('Avg_loss')\n",
    "    \n",
    "    ax2 = ax1.twinx()\n",
    "    ax2.plot(ites, objval_est, 'r')\n",
    "    ax2.set_ylabel('Objval_estimation')\n",
    "    "
   ]
  }
 ],
 "metadata": {
  "kernelspec": {
   "display_name": "Python 3",
   "language": "python",
   "name": "python3"
  },
  "language_info": {
   "codemirror_mode": {
    "name": "ipython",
    "version": 3
   },
   "file_extension": ".py",
   "mimetype": "text/x-python",
   "name": "python",
   "nbconvert_exporter": "python",
   "pygments_lexer": "ipython3",
   "version": "3.8.3"
  }
 },
 "nbformat": 4,
 "nbformat_minor": 4
}
